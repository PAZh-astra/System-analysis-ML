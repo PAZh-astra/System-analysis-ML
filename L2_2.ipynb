{
  "nbformat": 4,
  "nbformat_minor": 0,
  "metadata": {
    "colab": {
      "provenance": [],
      "authorship_tag": "ABX9TyN0tJiNMM2EmaGNgfyejq0b"
    },
    "kernelspec": {
      "name": "python3",
      "display_name": "Python 3"
    },
    "language_info": {
      "name": "python"
    }
  },
  "cells": [
    {
      "cell_type": "code",
      "source": [
        "import pandas as pd\n",
        "import numpy as np\n",
        "import matplotlib.pyplot as plt"
      ],
      "metadata": {
        "id": "KbAiseyfVs9O"
      },
      "execution_count": 1,
      "outputs": []
    },
    {
      "cell_type": "code",
      "execution_count": 3,
      "metadata": {
        "id": "2Qf_p-YMDPMj",
        "colab": {
          "base_uri": "https://localhost:8080/"
        },
        "outputId": "13e65c1d-b87d-4327-adff-bf22e99fd579"
      },
      "outputs": [
        {
          "output_type": "execute_result",
          "data": {
            "text/plain": [
              "(100, 10)"
            ]
          },
          "metadata": {},
          "execution_count": 3
        }
      ],
      "source": [
        "X_loadings = np.genfromtxt('X_loadings.csv', delimiter = ';') #матрица весов\n",
        "X_loadings.shape"
      ]
    },
    {
      "cell_type": "code",
      "source": [
        "X_reduced = np.genfromtxt('X_reduced.csv', delimiter = ';') #матрица счетов\n",
        "X = np.isnan(X_reduced)\n",
        "X_reduced = X_reduced[:, :-2][~X[:, :-2].any(axis=1)]\n",
        "X_reduced.shape"
      ],
      "metadata": {
        "colab": {
          "base_uri": "https://localhost:8080/"
        },
        "id": "Mm8ZcXr7Wb1-",
        "outputId": "fa3365b1-ab6e-47d9-ce3e-82ed6049a6b8"
      },
      "execution_count": 4,
      "outputs": [
        {
          "output_type": "execute_result",
          "data": {
            "text/plain": [
              "(100, 10)"
            ]
          },
          "metadata": {},
          "execution_count": 4
        }
      ]
    },
    {
      "cell_type": "code",
      "source": [
        "# Восстановление исходного изображения\n",
        "restored_image = np.dot(X_reduced, X_loadings.T)\n",
        "restored_image"
      ],
      "metadata": {
        "colab": {
          "base_uri": "https://localhost:8080/"
        },
        "id": "yCZaCyCKWcWN",
        "outputId": "9849fc42-57a2-49dc-ce5f-9dad1c243f4c"
      },
      "execution_count": 7,
      "outputs": [
        {
          "output_type": "execute_result",
          "data": {
            "text/plain": [
              "array([[ 2.05065379e-15, -3.80444761e-15,  7.93111003e-18, ...,\n",
              "         0.00000000e+00,  0.00000000e+00,  0.00000000e+00],\n",
              "       [ 2.05065379e-15, -3.80444761e-15,  7.93111003e-18, ...,\n",
              "         0.00000000e+00,  0.00000000e+00,  0.00000000e+00],\n",
              "       [ 2.05065379e-15, -3.80444761e-15,  7.93111003e-18, ...,\n",
              "         0.00000000e+00,  0.00000000e+00,  0.00000000e+00],\n",
              "       ...,\n",
              "       [ 2.05065379e-15, -3.80444761e-15,  7.93111003e-18, ...,\n",
              "         0.00000000e+00,  0.00000000e+00,  0.00000000e+00],\n",
              "       [ 2.05065379e-15, -3.80444761e-15,  7.93111003e-18, ...,\n",
              "         0.00000000e+00,  0.00000000e+00,  0.00000000e+00],\n",
              "       [ 2.05065379e-15, -3.80444761e-15,  7.93111003e-18, ...,\n",
              "         0.00000000e+00,  0.00000000e+00,  0.00000000e+00]])"
            ]
          },
          "metadata": {},
          "execution_count": 7
        }
      ]
    },
    {
      "cell_type": "code",
      "source": [
        "# Отображение восстановленного изображения\n",
        "plt.imshow(restored_image, cmap='Greys_r')\n",
        "plt.axis('off')\n",
        "plt.show()"
      ],
      "metadata": {
        "colab": {
          "base_uri": "https://localhost:8080/",
          "height": 406
        },
        "id": "9vyD2UBWaXT2",
        "outputId": "eadb6fd2-65df-476c-adba-f7cc3ec440f4"
      },
      "execution_count": 8,
      "outputs": [
        {
          "output_type": "display_data",
          "data": {
            "text/plain": [
              "<Figure size 640x480 with 1 Axes>"
            ],
            "image/png": "[encoded data removed]"
          },
          "metadata": {}
        }
      ]
    }
  ]
}