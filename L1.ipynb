{
  "nbformat": 4,
  "nbformat_minor": 0,
  "metadata": {
    "colab": {
      "provenance": [],
      "authorship_tag": "ABX9TyNH0dXon3AIYtQAoe/lEh3H"
    },
    "kernelspec": {
      "name": "python3",
      "display_name": "Python 3"
    },
    "language_info": {
      "name": "python"
    }
  },
  "cells": [
    {
      "cell_type": "code",
      "execution_count": null,
      "metadata": {
        "id": "dp8VaooJarCT",
        "outputId": "671feafc-8e7d-489e-9a32-301d04016fc7",
        "colab": {
          "base_uri": "https://localhost:8080/"
        }
      },
      "outputs": [
        {
          "output_type": "stream",
          "name": "stdout",
          "text": [
            "Евклидово расстояние: 2.8284271247461903\n"
          ]
        }
      ],
      "source": [
        "#черновик\n",
        "import math\n",
        "\n",
        "def euclidean_distance(point1, point2):\n",
        "    distance = math.sqrt(sum([(a - b) ** 2 for a, b in zip(point1, point2)]))\n",
        "    return distance\n",
        "\n",
        "point1 = (10, 2, 20)\n",
        "point2 = (8, 2, 18)  # Замените x1, x2, x3 на значения высоты волны, периода волны и скорости ветра соответственно\n",
        "\n",
        "distance = euclidean_distance(point1, point2)\n",
        "print(\"Евклидово расстояние:\", distance)"
      ]
    },
    {
      "cell_type": "code",
      "source": [
        "#Евклидово расстояние\n",
        "import math\n",
        "\n",
        "def euclidean_distance(point1, point2):\n",
        "    distance = math.sqrt(sum([(a - b) ** 2 for a, b in zip(point1, point2)]))\n",
        "    return distance\n",
        "\n",
        "def k_nearest_neighbors(k, train_data, test_point):\n",
        "    distances = []\n",
        "    for train_point in train_data:\n",
        "        distance = euclidean_distance(train_point[:-1], test_point[:-1])\n",
        "        distances.append((distance, train_point[-1]))\n",
        "    distances.sort()\n",
        "    neighbors = distances[:k]\n",
        "    counts = {}\n",
        "    for neighbor in neighbors:\n",
        "        label = neighbor[1]\n",
        "        if label in counts:\n",
        "            counts[label] += 1\n",
        "        else:\n",
        "            counts[label] = 1\n",
        "    prediction = max(counts, key=counts.get)\n",
        "    return prediction\n",
        "\n",
        "train_data = [\n",
        "    (6, 15, 5, 'да'),\n",
        "    (1, 6, 9, 'нет'),\n",
        "    (7, 10, 4, 'да'),\n",
        "    (7, 12, 3, 'да'),\n",
        "    (2, 2, 10, 'нет'),\n",
        "    (10, 2, 20, 'нет')\n",
        "]\n",
        "\n",
        "test_point = (8, 2, 18)\n",
        "\n",
        "k = 3\n",
        "prediction = k_nearest_neighbors(k, train_data, test_point)\n",
        "print(\"Прогноз для тестовой точки:\", prediction)\n"
      ],
      "metadata": {
        "colab": {
          "base_uri": "https://localhost:8080/"
        },
        "id": "Nt-MpLVn6a2A",
        "outputId": "5ac21e6c-b8b0-485e-fc16-46e207748d22"
      },
      "execution_count": null,
      "outputs": [
        {
          "output_type": "stream",
          "name": "stdout",
          "text": [
            "Прогноз для тестовой точки: нет\n"
          ]
        }
      ]
    },
    {
      "cell_type": "code",
      "source": [
        "#2_Многомерная логическая регрессия\n",
        "import numpy as np\n",
        "#Задайем веса для каждого признака\n",
        "weights = np.array([-3.82398, -0.02990, -0.09089, -0.19558, 0.02999, 0.74572])\n",
        "#Определяеям функцию для расчета логистической функции\n",
        "def sigmoid(x):\n",
        "  return 1 / (1 + np.exp(-x))\n",
        "#Определяем функцию для прогнозирования класса\n",
        "def predict(features, weights, threshold=0.5):\n",
        "# Вычислим линейную комбинацию признаков и весов\n",
        "  linear_combination = np.dot(features, weights)\n",
        "# Применим логистическую функцию к линейной комбинации\n",
        "  probabilities = sigmoid(linear_combination)\n",
        "# Прогнозируем класс на основе порога\n",
        "  predictions = np.where(probabilities >= threshold, 'да', 'нет')\n",
        "  return predictions\n",
        "#Задаем экземпляры запроса\n",
        "query_instances = np.array([\n",
        "[48, 1.21, 1, 0, 161.19, 0],\n",
        "[37, 0.72, 0, 1, 170.65, 0]\n",
        "])\n",
        "#Прогнозируем класс для каждого экземпляра запроса\n",
        "predictions = predict(query_instances, weights)\n",
        "#Вывод прогноза\n",
        "for i, prediction in enumerate(predictions):\n",
        "  print(f\"Прогноз для экземпляра {i+1}: {prediction}\")"
      ],
      "metadata": {
        "colab": {
          "base_uri": "https://localhost:8080/"
        },
        "id": "AqLQ9eZW8I_k",
        "outputId": "e57d6a65-a6a2-4395-b15e-6b331f740759"
      },
      "execution_count": 1,
      "outputs": [
        {
          "output_type": "stream",
          "name": "stdout",
          "text": [
            "Прогноз для экземпляра 1: нет\n",
            "Прогноз для экземпляра 2: нет\n"
          ]
        }
      ]
    },
    {
      "cell_type": "code",
      "source": [
        "#3_Теорема Байеса_вероятность событий_функция плотности нормального распределния\n",
        "import pandas as pd\n",
        "#Создадим DataFrame с данными\n",
        "data = pd.DataFrame({\n",
        "'a1': ['T', 'T', 'T', 'F', 'F', 'F', 'F', 'T', 'F'],\n",
        "'a2': ['T', 'T', 'F', 'F', 'T', 'T', 'F', 'F', 'T'],\n",
        "'a3': [5.0, 7.0, 8.0, 3.0, 7.0, 4.0, 5.0, 6.0, 1.0],\n",
        "'class': ['Y', 'Y', 'N', 'Y', 'N', 'N', 'N', 'Y', 'N']\n",
        "})\n",
        "#Разделим данные на классы Y и N\n",
        "data_Y = data[data['class'] == 'Y']\n",
        "data_N = data[data['class'] == 'N']\n",
        "#Оценим априорные вероятности классов P(Y) и P(N)\n",
        "P_Y = len(data_Y) / len(data)\n",
        "P_N = len(data_N) / len(data)\n",
        "#Оценим вероятности признаков P(T|Y), P(F|Y), P(T|N), P(F|N)\n",
        "P_T_Y = len(data_Y[data_Y['a1'] == 'T']) / len(data_Y)\n",
        "P_F_Y = len(data_Y[data_Y['a1'] == 'F']) / len(data_Y)\n",
        "P_T_N = len(data_N[data_N['a1'] == 'T']) / len(data_N)\n",
        "P_F_N = len(data_N[data_N['a1'] == 'F']) / len(data_N)\n",
        "#Оценим вероятность признака a3 равного 1.0 для класса Y и N\n",
        "P_1_Y = len(data_Y[data_Y['a3'] == 1.0]) / len(data_Y)\n",
        "P_1_N = len(data_N[data_N['a3'] == 1.0]) / len(data_N)\n",
        "#Вычислим вероятность принадлежности точки (T, F, 1.0) к классу Y и N\n",
        "P_TF1_Y = P_T_Y * P_F_Y * P_1_Y * P_Y\n",
        "P_TF1_N = P_T_N * P_F_N * P_1_N * P_N\n",
        "#Определяем класс точки (T, F, 1.0) на основе вероятностей\n",
        "if P_TF1_Y > P_TF1_N:\n",
        "  point_class = 'Y'\n",
        "else:\n",
        "  point_class = 'N'\n",
        "print(f\"Класс точки (T, F, 1.0): {point_class}\")"
      ],
      "metadata": {
        "colab": {
          "base_uri": "https://localhost:8080/"
        },
        "id": "_FYl-zck8eFu",
        "outputId": "8b8c4f98-3f6e-4452-c607-f04d52896d59"
      },
      "execution_count": 2,
      "outputs": [
        {
          "output_type": "stream",
          "name": "stdout",
          "text": [
            "Класс точки (T, F, 1.0): N\n"
          ]
        }
      ]
    }
  ]
}